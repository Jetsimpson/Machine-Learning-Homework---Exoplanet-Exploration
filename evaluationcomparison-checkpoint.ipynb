:
import joblib
import pandas as pd
Load Files
In [2]:
# Models
RFC_model = joblib.load('../Models/BestModel_RandomForest.sav')
LR_model = joblib.load('../Models/OtherModel_LogisticRegression.sav')

# Evaluation 
RFC_eval = pd.read_csv('../Resources/LogisticRegression_eval.csv')
LR_eval = pd.read_csv('../Resources/RandomForestClassifier_eval.csv')
In [3]:
RFC_eval
Out[3]:
Unnamed: 0	Accuracy
0	Base Model	86.213%
1	Select Features Model	86.213%
2	Tuned Model	89.474%
In [4]:
LR_eval
Out[4]:
Unnamed: 0	Accuracy
0	Base Model	89.874%
1	Select Features Model	90.103%
2	Tuned Model	90.103%
In [5]:
LR_eval.columns
Out[5]:
Index(['Unnamed: 0', 'Accuracy'], dtype='object')
In [ ]:
