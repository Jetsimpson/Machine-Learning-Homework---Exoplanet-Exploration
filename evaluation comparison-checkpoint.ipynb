Dependencies
In [3]:
import joblib
import pandas as pd
Load Files
In [5]:
# Models
RFC_model = joblib.load('BestModel_RandomForest.sav')
LR_model = joblib.load('OtherModel_LogisticRegression.sav')

# Evaluation 
RFC_eval = pd.read_csv('LogisticRegression_eval.csv')
LR_eval = pd.read_csv('RandomForestClassifier_eval.csv')
